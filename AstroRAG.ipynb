{
 "cells": [
  {
   "cell_type": "markdown",
   "id": "5d7797d3-ac71-46d0-8722-3834186e77ff",
   "metadata": {},
   "source": [
    "### Overview:"
   ]
  },
  {
   "cell_type": "code",
   "execution_count": 2,
   "id": "46106dd8-6fe9-489f-bd9f-374ba62c18ff",
   "metadata": {},
   "outputs": [],
   "source": [
    "from os import putenv\n",
    "putenv(\"HSA_OVERRIDE_GFX_VERSION\", \"11.0.0\") # The line must be defined before importing torch.\n",
    "\n",
    "import torch # OK. The HIP Runtime of PyTorch can recognize your ISA.\n",
    "import torch.nn as nn"
   ]
  },
  {
   "cell_type": "markdown",
   "id": "a3389963-c18a-4bea-a83a-979f9ad07e94",
   "metadata": {},
   "source": [
    "#### Import PDF Document:"
   ]
  },
  {
   "cell_type": "code",
   "execution_count": 4,
   "id": "0a44e543-088a-4ff4-bbd7-8ea2167bb050",
   "metadata": {},
   "outputs": [],
   "source": [
    "import os\n",
    "import requests\n",
    "\n",
    "pdf_path = 'Essentials of Anatomy and Physiology.pdf'\n"
   ]
  },
  {
   "cell_type": "code",
   "execution_count": null,
   "id": "7fa01def-597a-417c-8cae-cda28df13503",
   "metadata": {},
   "outputs": [],
   "source": [
    "import "
   ]
  }
 ],
 "metadata": {
  "kernelspec": {
   "display_name": "Python 3 (ipykernel)",
   "language": "python",
   "name": "python3"
  },
  "language_info": {
   "codemirror_mode": {
    "name": "ipython",
    "version": 3
   },
   "file_extension": ".py",
   "mimetype": "text/x-python",
   "name": "python",
   "nbconvert_exporter": "python",
   "pygments_lexer": "ipython3",
   "version": "3.10.12"
  }
 },
 "nbformat": 4,
 "nbformat_minor": 5
}
